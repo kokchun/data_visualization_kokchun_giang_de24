{
 "cells": [
  {
   "cell_type": "markdown",
   "id": "0d8c6c25",
   "metadata": {},
   "source": [
    "# Matplotlib bar chart storytelling"
   ]
  },
  {
   "cell_type": "markdown",
   "id": "3ef67b9b",
   "metadata": {},
   "source": []
  }
 ],
 "metadata": {
  "kernelspec": {
   "display_name": ".venv",
   "language": "python",
   "name": "python3"
  },
  "language_info": {
   "name": "python",
   "version": "3.11.8"
  }
 },
 "nbformat": 4,
 "nbformat_minor": 5
}
